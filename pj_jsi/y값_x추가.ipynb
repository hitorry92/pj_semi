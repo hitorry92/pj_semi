{
 "cells": [
  {
   "cell_type": "code",
   "execution_count": 2,
   "metadata": {},
   "outputs": [],
   "source": [
    "import pandas as pd\n",
    "import numpy as np\n",
    "import warnings\n",
    "warnings.filterwarnings(\"ignore\")\n",
    "import PublicDataReader as pdr"
   ]
  },
  {
   "cell_type": "code",
   "execution_count": 3,
   "metadata": {},
   "outputs": [],
   "source": [
    "추정매출 = pd.read_csv(\"./서울시 상권분석서비스(상권-추정매출2022).csv\", encoding = \"ansi\")\n",
    "생활인구 = pd.read_csv(\"./서울시 상권분석서비스(상권-생활인구2022).csv\", encoding = \"ansi\")\n",
    "직장인구 = pd.read_csv(\"./서울시 상권분석서비스(상권-직장인구2022).csv\", encoding = \"ansi\")\n",
    "상권영역 = pd.read_csv(\"./서울시 상권분석서비스(상권영역).csv\", encoding = \"ansi\")\n",
    "법정동코드 = pd.read_csv(\"./서울시 건축물대장 법정동 코드정보.csv\", encoding = \"ansi\")\n",
    "매출등급 = pd.read_csv(\"./필지단위 소상공인 매출등급 정보.csv\", encoding = \"ansi\")\n",
    "코드변환 = pd.read_csv(\"./A_CS 코드변환.txt\")\n",
    "분기수정_년도_업종_구_등급 = pd.read_csv(\"./분기수정_년도_업종_구_등급.csv\", encoding = \"ansi\")\n",
    "개폐업률정리 = pd.read_csv(\"./개폐업률정리.csv\", encoding = \"ansi\")\n",
    "신생생존률정리 = pd.read_csv(\"./신생생존률정리.csv\", encoding = \"ansi\")\n",
    "연차별생존률정리 = pd.read_csv(\"./연차별생존률정리.csv\", encoding = \"ansi\")\n",
    "평균영업기간정리 = pd.read_csv(\"./평균영업기간정리.csv\", encoding = \"ansi\")"
   ]
  },
  {
   "cell_type": "code",
   "execution_count": 4,
   "metadata": {},
   "outputs": [],
   "source": [
    "a = pd.merge(left = 분기수정_년도_업종_구_등급, right = 개폐업률정리, how = \"left\")"
   ]
  },
  {
   "cell_type": "code",
   "execution_count": 5,
   "metadata": {},
   "outputs": [],
   "source": [
    "b = pd.merge(left = a, right = 신생생존률정리, how = \"left\")"
   ]
  },
  {
   "cell_type": "code",
   "execution_count": 6,
   "metadata": {},
   "outputs": [],
   "source": [
    "c = pd.merge(left = b, right = 연차별생존률정리, how = \"left\")"
   ]
  },
  {
   "cell_type": "code",
   "execution_count": 8,
   "metadata": {},
   "outputs": [],
   "source": [
    "d = pd.merge(left = c, right = 평균영업기간정리, how = \"left\")"
   ]
  },
  {
   "cell_type": "code",
   "execution_count": 10,
   "metadata": {},
   "outputs": [],
   "source": [
    "y값_x추가 = d"
   ]
  },
  {
   "cell_type": "code",
   "execution_count": 12,
   "metadata": {},
   "outputs": [],
   "source": [
    "y값_x추가.to_csv(\"./y값_x추가.csv\", encoding = \"ansi\", index = False)"
   ]
  }
 ],
 "metadata": {
  "kernelspec": {
   "display_name": "Python 3",
   "language": "python",
   "name": "python3"
  },
  "language_info": {
   "codemirror_mode": {
    "name": "ipython",
    "version": 3
   },
   "file_extension": ".py",
   "mimetype": "text/x-python",
   "name": "python",
   "nbconvert_exporter": "python",
   "pygments_lexer": "ipython3",
   "version": "3.11.4"
  },
  "orig_nbformat": 4
 },
 "nbformat": 4,
 "nbformat_minor": 2
}
