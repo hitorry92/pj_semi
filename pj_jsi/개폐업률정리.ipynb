{
 "cells": [
  {
   "cell_type": "markdown",
   "metadata": {},
   "source": [
    "# `개폐업률 정리하기`"
   ]
  },
  {
   "cell_type": "code",
   "execution_count": null,
   "metadata": {},
   "outputs": [],
   "source": [
    "import pandas as pd\n",
    "import numpy as np\n",
    "import warnings\n",
    "warnings.filterwarnings(\"ignore\")\n",
    "import PublicDataReader as pdr"
   ]
  },
  {
   "cell_type": "code",
   "execution_count": null,
   "metadata": {},
   "outputs": [],
   "source": [
    "개폐업률 = pd.read_csv(\"./230825.x값 분기.구.업종_개폐업률_1차수정.csv\", encoding = \"ansi\")"
   ]
  },
  {
   "cell_type": "code",
   "execution_count": null,
   "metadata": {},
   "outputs": [],
   "source": [
    "d = [\"한식음식점\", \"중식음식점\", \"일식음식점\", \"양식음식점\", \"제과점\", \"패스트푸드점\", \"치킨전문점\", \"분식전문점\", \"호프-간이주점\", \"커피-음료\"]\n",
    "e = [\"한식\", \"중식\", \"일식\", \"기타 외국식\", \"제과제빵\", \"패스트푸드\", \"치킨\", \"분식\", \"주점\", \"커피\"]\n",
    "f = dict(zip(d,e))\n",
    "\n",
    "c = []\n",
    "for i in range(0,560,14):\n",
    "    a = 개폐업률.iloc[:,i:i+14]\n",
    "    b = pd.concat(objs = [a.iloc[:,:2],a.iloc[:,10:14]], axis = 1)\n",
    "    b.columns = ['시군구명', '서비스업종','개업수', '폐업수', '개업률', '폐업률']\n",
    "    b['서비스업종'] = b[\"서비스업종\"].replace({\"외식업/\":f\"{b.iloc[4,1]}\"})\n",
    "    b[\"서비스업종\"] = b[\"서비스업종\"].replace(f)\n",
    "    b.dropna(axis = 0, how = \"any\", inplace = True)\n",
    "    b.insert(loc = 0, column = \"분기\", value = f\"{a.columns[2][6]}\")\n",
    "    c.append(b)"
   ]
  },
  {
   "cell_type": "code",
   "execution_count": null,
   "metadata": {},
   "outputs": [],
   "source": [
    "a = c[0]\n",
    "b = c[1]\n",
    "d = pd.concat(objs = [a,b])\n",
    "for i in c[2:]:\n",
    "    d = pd.concat(objs = [d,i])"
   ]
  },
  {
   "cell_type": "code",
   "execution_count": null,
   "metadata": {},
   "outputs": [],
   "source": [
    "개폐업률정리 = d.reset_index(drop = True).astype(str)\n",
    "개폐업률정리\n"
   ]
  },
  {
   "cell_type": "code",
   "execution_count": null,
   "metadata": {},
   "outputs": [],
   "source": [
    "개폐업률정리.to_csv(\"./개폐업률정리.csv\", encoding=\"ansi\", index = False)"
   ]
  }
 ],
 "metadata": {
  "kernelspec": {
   "display_name": "Python 3",
   "language": "python",
   "name": "python3"
  },
  "language_info": {
   "codemirror_mode": {
    "name": "ipython",
    "version": 3
   },
   "file_extension": ".py",
   "mimetype": "text/x-python",
   "name": "python",
   "nbconvert_exporter": "python",
   "pygments_lexer": "ipython3",
   "version": "3.11.4"
  },
  "orig_nbformat": 4
 },
 "nbformat": 4,
 "nbformat_minor": 2
}
