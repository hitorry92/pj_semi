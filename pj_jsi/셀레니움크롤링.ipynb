{
 "cells": [
  {
   "cell_type": "code",
   "execution_count": null,
   "metadata": {},
   "outputs": [],
   "source": [
    "#!python -m pip install selenium"
   ]
  },
  {
   "cell_type": "code",
   "execution_count": null,
   "metadata": {},
   "outputs": [],
   "source": [
    "from selenium import webdriver\n",
    "from selenium.webdriver.common.by import By\n",
    "from functools import reduce\n",
    "import time\n",
    "import pandas as pd\n",
    "import os"
   ]
  },
  {
   "cell_type": "code",
   "execution_count": null,
   "metadata": {},
   "outputs": [],
   "source": [
    "driver = webdriver.Chrome(\"\")\n",
    "driver.maximize_window()"
   ]
  },
  {
   "cell_type": "code",
   "execution_count": null,
   "metadata": {},
   "outputs": [],
   "source": [
    "time.sleep(3)"
   ]
  },
  {
   "cell_type": "code",
   "execution_count": null,
   "metadata": {},
   "outputs": [],
   "source": [
    "#뜨는상권이동\n",
    "driver.get(\"https://golmok.seoul.go.kr/stateArea.do\")"
   ]
  },
  {
   "cell_type": "code",
   "execution_count": null,
   "metadata": {},
   "outputs": [],
   "source": [
    "time.sleep(3)"
   ]
  },
  {
   "cell_type": "markdown",
   "metadata": {},
   "source": [
    "지역분석  \n",
    "<b>XPATH</b>가 다음과 같을 때  \n",
    "\n",
    "/html/body/div[1]/div[2]/article/div/article/div[1]/ul/li[i]/button  \n",
    "\n",
    "i값에 따른  \n",
    "1 : 점포수  \n",
    "2 : 신생기업생존율  \n",
    "3 : 연차별생존율  \n",
    "4 : 평균영업기간  \n",
    "5 : 개폐업율(률)  \n",
    "6 : 인구수  \n",
    "7 : 소득/가구수  \n",
    "8 : 입대시세  "
   ]
  },
  {
   "cell_type": "code",
   "execution_count": null,
   "metadata": {},
   "outputs": [],
   "source": [
    "지역분석 = {\n",
    "\"1\" : \"점포수\",\n",
    "\"2\" : \"신생기업생존율\",\n",
    "\"3\" : \"연차별생존율\",\n",
    "\"4\" : \"평균영업기간\",\n",
    "\"5\" : \"개폐업율(률)\",\n",
    "\"6\" : \"인구수\",\n",
    "\"7\" : \"소득/가구수\",\n",
    "\"8\" : \"입대시세\"\n",
    "}"
   ]
  },
  {
   "cell_type": "code",
   "execution_count": null,
   "metadata": {},
   "outputs": [],
   "source": [
    "#지역분석 클릭\n",
    "i = 2\n",
    "btn = driver.find_element(By.XPATH, f'/html/body/div[1]/div[2]/article/div/article/div[1]/ul/li[{i}]/button')\n",
    "btn.click()"
   ]
  },
  {
   "cell_type": "code",
   "execution_count": null,
   "metadata": {},
   "outputs": [],
   "source": [
    "element = driver.find_element(By.ID, \"selectYear\")\n",
    "child_elements = element.find_elements(By.XPATH, \"./*\")\n",
    "len(child_elements)"
   ]
  },
  {
   "cell_type": "code",
   "execution_count": null,
   "metadata": {},
   "outputs": [],
   "source": [
    "time.sleep(3)"
   ]
  },
  {
   "cell_type": "markdown",
   "metadata": {},
   "source": [
    "기준년도  \n",
    "<b>XPATH</b>가 다음과 같을 때  \n",
    "\n",
    "/html/body/div[1]/div[2]/article/div/article/div[1]/div[1]/dl[1]/dd/select[1]/option[i]  \n",
    "\n",
    "i값에 따라  \n",
    "1 : 2023  \n",
    "2 : 2022  \n",
    "3 : 2021  \n",
    "4 : 2020  \n",
    "5 : 2019  \n",
    "6 : 2018  \n",
    "7 : 2017  "
   ]
  },
  {
   "cell_type": "code",
   "execution_count": null,
   "metadata": {},
   "outputs": [],
   "source": [
    "#기준년도 클릭\n",
    "i = 2\n",
    "btn = driver.find_element(By.XPATH, f'/html/body/div[1]/div[2]/article/div/article/div[1]/div[1]/dl[1]/dd/select[1]/option[{i}]')\n",
    "btn.click()"
   ]
  },
  {
   "cell_type": "markdown",
   "metadata": {},
   "source": [
    "기준분기  \n",
    "<b>XPATH</b>가 다음과 같을 때  \n",
    "\n",
    "/html/body/div[1]/div[2]/article/div/article/div[1]/div[1]/dl[1]/dd/select[2]/option[i]  \n",
    "\n",
    "i값에 따라  \n",
    "1 : 4분기  \n",
    "2 : 3분기  \n",
    "3 : 2분기  \n",
    "4 : 1분기  "
   ]
  },
  {
   "cell_type": "code",
   "execution_count": null,
   "metadata": {},
   "outputs": [],
   "source": [
    "#기준분기 클릭\n",
    "i = 1\n",
    "btn = driver.find_element(By.XPATH, f'/html/body/div[1]/div[2]/article/div/article/div[1]/div[1]/dl[1]/dd/select[2]/option[{i}]')\n",
    "btn.click()"
   ]
  },
  {
   "cell_type": "markdown",
   "metadata": {},
   "source": [
    "조회분기  \n",
    "<b>XPATH</b>가 다음과 같을 때  \n",
    "\n",
    "/html/body/div[1]/div[2]/article/div/article/div[1]/div[1]/dl[2]/dd/select/option[i]  \n",
    "\n",
    "i값에 따라  \n",
    "1 : 동분기  \n",
    "2 : 전분기    "
   ]
  },
  {
   "cell_type": "code",
   "execution_count": null,
   "metadata": {},
   "outputs": [],
   "source": [
    "#조회분기 클릭\n",
    "i = 2\n",
    "btn = driver.find_element(By.XPATH, f'/html/body/div[1]/div[2]/article/div/article/div[1]/div[1]/dl[2]/dd/select/option[{i}]')\n",
    "btn.click()"
   ]
  },
  {
   "cell_type": "markdown",
   "metadata": {},
   "source": [
    "생활밀접업종_1   \n",
    "<b>XPATH</b>가 다음과 같을 때  \n",
    "\n",
    "/html/body/div[1]/div[2]/article/div/article/div[1]/div[1]/dl[6]/dd/select[1]/option[i]  \n",
    "\n",
    "i값에 따라  \n",
    "1 : 전체  \n",
    "2 : 외식업  \n",
    "3 : 서비스업  \n",
    "4 : 소매업  "
   ]
  },
  {
   "cell_type": "code",
   "execution_count": null,
   "metadata": {},
   "outputs": [],
   "source": [
    "#생활밀접업종_1 클릭\n",
    "i = 2\n",
    "btn = driver.find_element(By.XPATH, f'/html/body/div[1]/div[2]/article/div/article/div[1]/div[1]/dl[6]/dd/select[1]/option[{i}]')\n",
    "btn.click()"
   ]
  },
  {
   "cell_type": "markdown",
   "metadata": {},
   "source": [
    "생활밀접업종_2   \n",
    "<b>XPATH</b>가 다음과 같을 때  \n",
    "\n",
    "/html/body/div[1]/div[2]/article/div/article/div[1]/div[1]/dl[6]/dd/select[2]/option[i]  \n",
    "\n",
    "i값에 따라  \n",
    "1 : 전체  \n",
    "2 : 한식음식점  \n",
    "3 : 중식음식점  \n",
    "4 : 일식음식점  \n",
    "5 : 양식음식점  \n",
    "6 : 제과점  \n",
    "7 : 패스트푸드점  \n",
    "8 : 치킨전문점  \n",
    "9 : 분식전문점  \n",
    "10 : 호프-간이주점  \n",
    "11 : 커피-음료"
   ]
  },
  {
   "cell_type": "code",
   "execution_count": null,
   "metadata": {},
   "outputs": [],
   "source": [
    "#생활밀접업종_2 클릭\n",
    "i = 1\n",
    "btn = driver.find_element(By.XPATH, f'/html/body/div[1]/div[2]/article/div/article/div[1]/div[1]/dl[6]/dd/select[2]/option[{i}]')\n",
    "btn.click()"
   ]
  },
  {
   "cell_type": "code",
   "execution_count": null,
   "metadata": {},
   "outputs": [],
   "source": [
    "#검색버튼 클릭\n",
    "btn = driver.find_element(By.XPATH, '/html/body/div[1]/div[2]/article/div/article/div[1]/div[2]/div/button')\n",
    "btn.click()"
   ]
  },
  {
   "cell_type": "code",
   "execution_count": null,
   "metadata": {},
   "outputs": [],
   "source": [
    "#테이블 선택하기\n",
    "table = driver.find_element(By.XPATH, '/html/body/div[1]/div[2]/article/div/article/div[3]/div')"
   ]
  },
  {
   "cell_type": "code",
   "execution_count": null,
   "metadata": {},
   "outputs": [],
   "source": [
    "#테이블 데이터 프레임으로 만들기\n",
    "df = pd.read_html(table.get_attribute('outerHTML'))[0]"
   ]
  },
  {
   "cell_type": "code",
   "execution_count": null,
   "metadata": {},
   "outputs": [],
   "source": [
    "#데이터 프레임 합치기\n",
    "df = pd.concat([df, pd.read_html(table.get_attribute('outerHTML'))[0]],axis = 1)"
   ]
  },
  {
   "cell_type": "code",
   "execution_count": null,
   "metadata": {},
   "outputs": [],
   "source": [
    "# 저장하기\n",
    "df.to_csv(\"./임시/평균영업기간.csv\", encoding = \"ansi\", index = False)"
   ]
  },
  {
   "cell_type": "code",
   "execution_count": null,
   "metadata": {},
   "outputs": [],
   "source": [
    "# 삭제하기\n",
    "file_path = \"./임시/2023_1분기_한식_평균영업기간.csv\"\n",
    "os.remove(file_path)"
   ]
  },
  {
   "cell_type": "markdown",
   "metadata": {},
   "source": [
    "# 여기서부터 반복문"
   ]
  },
  {
   "cell_type": "code",
   "execution_count": null,
   "metadata": {},
   "outputs": [],
   "source": [
    "def f1(i):\n",
    "    element = driver.find_element(By.ID, i)\n",
    "    child_elements = element.find_elements(By.XPATH, \"./*\")\n",
    "    return len(child_elements)"
   ]
  },
  {
   "cell_type": "code",
   "execution_count": null,
   "metadata": {},
   "outputs": [],
   "source": [
    "b = [\"sotre active\", \"survival\", \"survival2\", \"operatingPeriod\", \"opeing\", \"population\", \"income active\", \"rent\"]\n"
   ]
  },
  {
   "cell_type": "code",
   "execution_count": null,
   "metadata": {},
   "outputs": [],
   "source": [
    "for a in range(1,8+1):\n",
    "    print(driver.find_element(By.XPATH, f'/html/body/div[1]/div[2]/article/div/article/div[1]/ul/li[{a}]/button').text)"
   ]
  },
  {
   "cell_type": "code",
   "execution_count": null,
   "metadata": {},
   "outputs": [],
   "source": [
    "from selenium import webdriver\n",
    "from selenium.webdriver.common.by import By\n",
    "from functools import reduce\n",
    "import time\n",
    "import pandas as pd\n",
    "import os\n",
    "\n",
    "time.sleep(3)\n",
    "\n",
    "driver = webdriver.Chrome(\"\")\n",
    "driver.maximize_window()\n",
    "\n",
    "time.sleep(3)\n",
    "\n",
    "driver.get(\"https://golmok.seoul.go.kr/stateArea.do\")\n",
    "\n",
    "time.sleep(3)\n",
    "\n",
    "def f1(i):\n",
    "    element = driver.find_element(By.ID, i)\n",
    "    child_elements = element.find_elements(By.XPATH, \"./*\")\n",
    "    return len(child_elements)\n",
    "\n",
    "time.sleep(3)\n",
    "\n",
    "for a in range(1,5+1):\n",
    "    driver.find_element(By.XPATH, f'/html/body/div[1]/div[2]/article/div/article/div[1]/ul/li[{a}]/button').click()\n",
    "    g = driver.find_element(By.XPATH, f'/html/body/div[1]/div[2]/article/div/article/div[1]/ul/li[{a}]/button').text\n",
    "    # time.sleep(1)\n",
    "    for b in range(1,f1(\"selectYear\")+1):\n",
    "        driver.find_element(By.XPATH, f'/html/body/div[1]/div[2]/article/div/article/div[1]/div[1]/dl[1]/dd/select[1]/option[{b}]').click()\n",
    "        h = driver.find_element(By.XPATH, f'/html/body/div[1]/div[2]/article/div/article/div[1]/div[1]/dl[1]/dd/select[1]/option[{b}]').text\n",
    "        # time.sleep(1)\n",
    "        for c in range(1,f1(\"selectQu\")+1):\n",
    "            driver.find_element(By.XPATH, f'/html/body/div[1]/div[2]/article/div/article/div[1]/div[1]/dl[1]/dd/select[2]/option[{c}]').click()\n",
    "            i = driver.find_element(By.XPATH, f'/html/body/div[1]/div[2]/article/div/article/div[1]/div[1]/dl[1]/dd/select[2]/option[{c}]').text\n",
    "            # time.sleep(1)\n",
    "            for d in range(1,f1(\"selectQuCondition\")+1):\n",
    "                driver.find_element(By.XPATH, f'/html/body/div[1]/div[2]/article/div/article/div[1]/div[1]/dl[2]/dd/select/option[{d}]').click()\n",
    "                j = driver.find_element(By.XPATH, f'/html/body/div[1]/div[2]/article/div/article/div[1]/div[1]/dl[2]/dd/select/option[{d}]').text\n",
    "                # time.sleep(1)\n",
    "                for e in range(2,f1(\"induL\")+1):\n",
    "                    driver.find_element(By.XPATH, f'/html/body/div[1]/div[2]/article/div/article/div[1]/div[1]/dl[6]/dd/select[1]/option[{e}]').click()\n",
    "                    k = driver.find_element(By.XPATH, f'/html/body/div[1]/div[2]/article/div/article/div[1]/div[1]/dl[6]/dd/select[1]/option[{e}]').text\n",
    "                    # time.sleep(1)\n",
    "                    m = []\n",
    "                    for f in range(2,f1(\"induM\")+1):\n",
    "                        driver.find_element(By.XPATH, f'/html/body/div[1]/div[2]/article/div/article/div[1]/div[1]/dl[6]/dd/select[2]/option[{f}]').click()\n",
    "                        l = driver.find_element(By.XPATH, f'/html/body/div[1]/div[2]/article/div/article/div[1]/div[1]/dl[6]/dd/select[2]/option[{f}]').text\n",
    "                        driver.find_element(By.XPATH, '/html/body/div[1]/div[2]/article/div/article/div[1]/div[2]/div/button').click()\n",
    "                        time.sleep(1)\n",
    "                        table = driver.find_element(By.XPATH, '/html/body/div[1]/div[2]/article/div/article/div[3]/div')\n",
    "                        df = pd.read_html(table.get_attribute('outerHTML'))[0]\n",
    "                        m.append(df)\n",
    "                    n = reduce(lambda x,y: pd.concat([x,y],axis = 0), m[1:], m[0])\n",
    "                    n.to_csv(f\"./임시/{h}_{i}_{k}_{g}.csv\", encoding = \"ansi\", index = False)\n"
   ]
  },
  {
   "cell_type": "code",
   "execution_count": null,
   "metadata": {},
   "outputs": [],
   "source": [
    "from selenium import webdriver\n",
    "from selenium.webdriver.common.by import By\n",
    "from functools import reduce\n",
    "import time\n",
    "import pandas as pd\n",
    "import os\n",
    "\n",
    "time.sleep(3)\n",
    "\n",
    "driver = webdriver.Chrome(\"\")\n",
    "driver.maximize_window()\n",
    "\n",
    "time.sleep(3)\n",
    "\n",
    "driver.get(\"https://golmok.seoul.go.kr/stateArea.do\")\n",
    "\n",
    "time.sleep(3)\n",
    "\n",
    "def f1(i):\n",
    "    element = driver.find_element(By.ID, i)\n",
    "    child_elements = element.find_elements(By.XPATH, \"./*\")\n",
    "    return len(child_elements)\n",
    "\n",
    "time.sleep(3)\n",
    "\n",
    "for a in range(1,5+1):\n",
    "    driver.find_element(By.XPATH, f'/html/body/div[1]/div[2]/article/div/article/div[1]/ul/li[{2}]/button').click()\n",
    "    g = driver.find_element(By.XPATH, f'/html/body/div[1]/div[2]/article/div/article/div[1]/ul/li[{2}]/button').text\n",
    "    # time.sleep(1)\n",
    "    for b in range(1,f1(\"selectYear\")+1):\n",
    "        driver.find_element(By.XPATH, f'/html/body/div[1]/div[2]/article/div/article/div[1]/div[1]/dl[1]/dd/select[1]/option[{2}]').click()\n",
    "        h = driver.find_element(By.XPATH, f'/html/body/div[1]/div[2]/article/div/article/div[1]/div[1]/dl[1]/dd/select[1]/option[{2}]').text\n",
    "        # time.sleep(1)\n",
    "        for c in range(1,f1(\"selectQu\")+1):\n",
    "            driver.find_element(By.XPATH, f'/html/body/div[1]/div[2]/article/div/article/div[1]/div[1]/dl[1]/dd/select[2]/option[{1}]').click()\n",
    "            i = driver.find_element(By.XPATH, f'/html/body/div[1]/div[2]/article/div/article/div[1]/div[1]/dl[1]/dd/select[2]/option[{1}]').text\n",
    "            # time.sleep(1)\n",
    "            for d in range(1,f1(\"selectQuCondition\")+1):\n",
    "                driver.find_element(By.XPATH, f'/html/body/div[1]/div[2]/article/div/article/div[1]/div[1]/dl[2]/dd/select/option[{1}]').click()\n",
    "                j = driver.find_element(By.XPATH, f'/html/body/div[1]/div[2]/article/div/article/div[1]/div[1]/dl[2]/dd/select/option[{1}]').text\n",
    "                # time.sleep(1)\n",
    "                for e in range(2,f1(\"induL\")+1):\n",
    "                    driver.find_element(By.XPATH, f'/html/body/div[1]/div[2]/article/div/article/div[1]/div[1]/dl[6]/dd/select[1]/option[{2}]').click()\n",
    "                    k = driver.find_element(By.XPATH, f'/html/body/div[1]/div[2]/article/div/article/div[1]/div[1]/dl[6]/dd/select[1]/option[{2}]').text\n",
    "                    # time.sleep(1)\n",
    "                    m = []\n",
    "                    for f in range(2,f1(\"induM\")+1):\n",
    "                        driver.find_element(By.XPATH, f'/html/body/div[1]/div[2]/article/div/article/div[1]/div[1]/dl[6]/dd/select[2]/option[{1}]').click()\n",
    "                        l = driver.find_element(By.XPATH, f'/html/body/div[1]/div[2]/article/div/article/div[1]/div[1]/dl[6]/dd/select[2]/option[{1}]').text\n",
    "                        driver.find_element(By.XPATH, '/html/body/div[1]/div[2]/article/div/article/div[1]/div[2]/div/button').click()\n",
    "                        time.sleep(1)\n",
    "                        table = driver.find_element(By.XPATH, '/html/body/div[1]/div[2]/article/div/article/div[3]/div')\n",
    "                        df = pd.read_html(table.get_attribute('outerHTML'))[0]\n",
    "                        m.append(df)\n",
    "                    n = reduce(lambda x,y: pd.concat([x,y],axis = 0), m[1:], m[0])\n",
    "                    n.to_csv(f\"./임시/{h}_{i}_{k}_{g}.csv\", encoding = \"ansi\", index = False)\n"
   ]
  },
  {
   "cell_type": "code",
   "execution_count": null,
   "metadata": {},
   "outputs": [],
   "source": [
    "a = []\n",
    "for f in range(2,f1(\"induM\")+1):\n",
    "    driver.find_element(By.XPATH, f'/html/body/div[1]/div[2]/article/div/article/div[1]/div[1]/dl[6]/dd/select[2]/option[{f}]').click()\n",
    "    l = driver.find_element(By.XPATH, f'/html/body/div[1]/div[2]/article/div/article/div[1]/div[1]/dl[6]/dd/select[2]/option[{f}]').text\n",
    "    driver.find_element(By.XPATH, '/html/body/div[1]/div[2]/article/div/article/div[1]/div[2]/div/button').click()\n",
    "    time.sleep(2)\n",
    "    table = driver.find_element(By.XPATH, '/html/body/div[1]/div[2]/article/div/article/div[3]/div')\n",
    "    df = pd.read_html(table.get_attribute('outerHTML'))[0]\n",
    "    a.append(df)"
   ]
  },
  {
   "cell_type": "code",
   "execution_count": null,
   "metadata": {},
   "outputs": [],
   "source": [
    "a[1]"
   ]
  },
  {
   "cell_type": "code",
   "execution_count": null,
   "metadata": {},
   "outputs": [],
   "source": [
    "#생활밀접업종_외식업_반복문\n",
    "a = []\n",
    "for i in range(1,11):\n",
    "    driver.find_element(By.XPATH, f'/html/body/div[1]/div[2]/article/div/article/div[1]/div[1]/dl[6]/dd/select[2]/option[{i}]').click()\n",
    "    time.sleep(1)\n",
    "    driver.find_element(By.XPATH, f'/html/body/div[1]/div[2]/article/div/article/div[1]/div[2]/div/button').click()\n",
    "    time.sleep(1)\n",
    "    table = driver.find_element(By.XPATH, '/html/body/div[1]/div[2]/article/div/article/div[3]/div')\n",
    "    df = pd.read_html(table.get_attribute('outerHTML'))[0]\n",
    "    a.append(df)"
   ]
  },
  {
   "cell_type": "code",
   "execution_count": null,
   "metadata": {},
   "outputs": [],
   "source": [
    "from functools import reduce"
   ]
  },
  {
   "cell_type": "code",
   "execution_count": null,
   "metadata": {},
   "outputs": [],
   "source": [
    "b = reduce(lambda x,y: pd.concat([x,y],axis = 1), a, a[0])"
   ]
  },
  {
   "cell_type": "code",
   "execution_count": null,
   "metadata": {},
   "outputs": [],
   "source": [
    "b.to_csv(\"./임시/2023_1분기_개폐업율기간.csv\", encoding = \"ansi\", index = False)"
   ]
  }
 ],
 "metadata": {
  "kernelspec": {
   "display_name": "Python 3",
   "language": "python",
   "name": "python3"
  },
  "language_info": {
   "codemirror_mode": {
    "name": "ipython",
    "version": 3
   },
   "file_extension": ".py",
   "mimetype": "text/x-python",
   "name": "python",
   "nbconvert_exporter": "python",
   "pygments_lexer": "ipython3",
   "version": "3.11.4"
  },
  "orig_nbformat": 4
 },
 "nbformat": 4,
 "nbformat_minor": 2
}
