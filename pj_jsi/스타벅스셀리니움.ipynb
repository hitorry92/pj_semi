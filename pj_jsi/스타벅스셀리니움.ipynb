{
 "cells": [
  {
   "cell_type": "code",
   "execution_count": 1,
   "metadata": {},
   "outputs": [],
   "source": [
    "from selenium import webdriver\n",
    "from selenium.webdriver.common.by import By\n",
    "from functools import reduce\n",
    "import time\n",
    "import pandas as pd\n",
    "import os"
   ]
  },
  {
   "cell_type": "code",
   "execution_count": 2,
   "metadata": {},
   "outputs": [],
   "source": [
    "driver = webdriver.Chrome(\"\")\n",
    "driver.maximize_window()"
   ]
  },
  {
   "cell_type": "code",
   "execution_count": 3,
   "metadata": {},
   "outputs": [],
   "source": [
    "#스타벅스 사이트 접속\n",
    "driver.get(\"https://www.starbucks.co.kr/index.do\")"
   ]
  },
  {
   "cell_type": "code",
   "execution_count": 4,
   "metadata": {},
   "outputs": [],
   "source": [
    "#Find a Store 클릭\n",
    "driver.find_element(By.XPATH, '/html/body/div[3]/div[6]/div/div/div/nav/ul/li[5]/a').click()"
   ]
  },
  {
   "cell_type": "code",
   "execution_count": 5,
   "metadata": {},
   "outputs": [],
   "source": [
    "#지역 검색 클릭\n",
    "driver.find_element(By.XPATH, '/html/body/div[4]/div[7]/div/form/fieldset/div/section/article[1]/article/header[2]/h3/a').click()"
   ]
  },
  {
   "cell_type": "code",
   "execution_count": 6,
   "metadata": {},
   "outputs": [],
   "source": [
    "#서울 클릭\n",
    "driver.find_element(By.XPATH, '/html/body/div[4]/div[7]/div/form/fieldset/div/section/article[1]/article/article[2]/div[1]/div[2]/ul/li[1]/a').click()"
   ]
  },
  {
   "cell_type": "code",
   "execution_count": 7,
   "metadata": {},
   "outputs": [],
   "source": [
    "#전체 클릭\n",
    "driver.find_element(By.XPATH, '/html/body/div[4]/div[7]/div/form/fieldset/div/section/article[1]/article/article[2]/div[2]/div[3]/div/div/div[1]/ul/li[1]/a').click()"
   ]
  },
  {
   "cell_type": "code",
   "execution_count": null,
   "metadata": {},
   "outputs": [],
   "source": [
    "req = driver.page_source\n",
    "req"
   ]
  },
  {
   "cell_type": "code",
   "execution_count": 11,
   "metadata": {},
   "outputs": [
    {
     "data": {
      "text/plain": [
       "''"
      ]
     },
     "execution_count": 11,
     "metadata": {},
     "output_type": "execute_result"
    }
   ],
   "source": [
    "# 서울 전체 매장 개수\n",
    "element = driver.find_element(By.XPATH, \"/html/body/div[4]/div[7]/div/form/fieldset/div/section/article[1]/article/article[2]/div[3]/div[2]/div/div/div[1]/ul\")\n",
    "child_elements = element.find_elements(By.XPATH, \"./*\")\n",
    "child_elements[5].text"
   ]
  },
  {
   "cell_type": "code",
   "execution_count": null,
   "metadata": {},
   "outputs": [],
   "source": [
    "driver.find_element(By.CLASS_NAME, f'quickResultLstCon').text"
   ]
  },
  {
   "cell_type": "code",
   "execution_count": null,
   "metadata": {},
   "outputs": [],
   "source": [
    "/html/body/div[4]/div[7]/div/form/fieldset/div/section/article[1]/article/article[2]/div[3]/div[2]/div/div/div[1]/ul/li[1]"
   ]
  },
  {
   "cell_type": "code",
   "execution_count": null,
   "metadata": {},
   "outputs": [],
   "source": [
    "/html/body/div[4]/div[7]/div/form/fieldset/div/section/article[1]/article/article[2]/div[3]/div[2]/div/div/div[1]/ul/li[2]"
   ]
  },
  {
   "cell_type": "code",
   "execution_count": null,
   "metadata": {},
   "outputs": [],
   "source": [
    "/html/body/div[4]/div[7]/div/form/fieldset/div/section/article[1]/article/article[2]/div[3]/div[2]/div/div/div[1]/ul/li[4]"
   ]
  },
  {
   "cell_type": "code",
   "execution_count": null,
   "metadata": {},
   "outputs": [],
   "source": [
    "#mCSB_3_container > ul > li:nth-child(2)"
   ]
  }
 ],
 "metadata": {
  "kernelspec": {
   "display_name": "Python 3",
   "language": "python",
   "name": "python3"
  },
  "language_info": {
   "codemirror_mode": {
    "name": "ipython",
    "version": 3
   },
   "file_extension": ".py",
   "mimetype": "text/x-python",
   "name": "python",
   "nbconvert_exporter": "python",
   "pygments_lexer": "ipython3",
   "version": "3.11.4"
  },
  "orig_nbformat": 4
 },
 "nbformat": 4,
 "nbformat_minor": 2
}
