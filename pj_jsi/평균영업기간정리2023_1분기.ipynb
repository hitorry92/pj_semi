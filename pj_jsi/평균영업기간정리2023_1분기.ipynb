{
 "cells": [
  {
   "cell_type": "markdown",
   "metadata": {},
   "source": [
    "# `개폐업률 정리하기`"
   ]
  },
  {
   "cell_type": "code",
   "execution_count": null,
   "metadata": {},
   "outputs": [],
   "source": [
    "import pandas as pd\n",
    "import numpy as np\n",
    "import warnings\n",
    "warnings.filterwarnings(\"ignore\")\n",
    "import PublicDataReader as pdr"
   ]
  },
  {
   "cell_type": "code",
   "execution_count": null,
   "metadata": {},
   "outputs": [],
   "source": [
    "a = pd.read_csv(\"./2023/2023년_1분기_외식업_평균영업기간.csv\", encoding = \"ansi\", header = 2)"
   ]
  },
  {
   "cell_type": "code",
   "execution_count": null,
   "metadata": {},
   "outputs": [],
   "source": [
    "a.shape"
   ]
  },
  {
   "cell_type": "code",
   "execution_count": null,
   "metadata": {},
   "outputs": [],
   "source": [
    "a.columns"
   ]
  },
  {
   "cell_type": "code",
   "execution_count": null,
   "metadata": {},
   "outputs": [],
   "source": [
    "a.head()"
   ]
  },
  {
   "cell_type": "code",
   "execution_count": null,
   "metadata": {},
   "outputs": [],
   "source": [
    "b = pd.concat([a.iloc[:,[0,1]],a.iloc[:,-2:]], axis = 1)\n",
    "b"
   ]
  },
  {
   "cell_type": "code",
   "execution_count": null,
   "metadata": {},
   "outputs": [],
   "source": [
    "b.columns"
   ]
  },
  {
   "cell_type": "code",
   "execution_count": null,
   "metadata": {},
   "outputs": [],
   "source": [
    "c = b.drop(index =[0])\n",
    "c.columns = ['시군구명', '서비스업종','최근10년기준', '최근30년기준']\n",
    "c = c[~(c[\"시군구명\"].str.contains(\"서울시\"))]"
   ]
  },
  {
   "cell_type": "code",
   "execution_count": null,
   "metadata": {},
   "outputs": [],
   "source": [
    "c[\"시군구명\"] = c[\"시군구명\"].str.replace(pat = \"하위 메뉴 펼침\",repl = \"\")\n",
    "c[\"서비스업종\"] = c[\"서비스업종\"].str.replace(pat = \"외식업/ \",repl = \"\")\n",
    "c"
   ]
  },
  {
   "cell_type": "code",
   "execution_count": null,
   "metadata": {},
   "outputs": [],
   "source": [
    "c[\"서비스업종\"].unique()"
   ]
  },
  {
   "cell_type": "code",
   "execution_count": null,
   "metadata": {},
   "outputs": [],
   "source": [
    "d = [\"한식음식점\", \"중식음식점\", \"일식음식점\", \"양식음식점\", \"제과점\", \"패스트푸드점\", \"치킨전문점\", \"분식전문점\", \"호프-간이주점\", \"커피-음료\"]\n",
    "e = [\"한식\", \"중식\", \"일식\", \"기타 외국식\", \"제과제빵\", \"패스트푸드\", \"치킨\", \"분식\", \"주점\", \"커피\"]\n",
    "f = dict(zip(d,e))\n",
    "f"
   ]
  },
  {
   "cell_type": "code",
   "execution_count": null,
   "metadata": {},
   "outputs": [],
   "source": [
    "c[\"서비스업종\"] = c[\"서비스업종\"].replace(f)\n",
    "if \"분기\" in c.columns:\n",
    "    c.drop(columns = \"분기\", inplace= True)\n",
    "c.insert(loc = 0, column = \"분기\", value = \"1\")\n",
    "c"
   ]
  },
  {
   "cell_type": "code",
   "execution_count": null,
   "metadata": {},
   "outputs": [],
   "source": [
    "c.to_csv(\"./평균영업기간정리2023_1분기.csv\", encoding=\"ansi\", index = False)"
   ]
  }
 ],
 "metadata": {
  "kernelspec": {
   "display_name": "Python 3",
   "language": "python",
   "name": "python3"
  },
  "language_info": {
   "codemirror_mode": {
    "name": "ipython",
    "version": 3
   },
   "file_extension": ".py",
   "mimetype": "text/x-python",
   "name": "python",
   "nbconvert_exporter": "python",
   "pygments_lexer": "ipython3",
   "version": "3.11.4"
  },
  "orig_nbformat": 4
 },
 "nbformat": 4,
 "nbformat_minor": 2
}
